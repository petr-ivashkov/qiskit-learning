{
 "cells": [
  {
   "cell_type": "code",
   "execution_count": 69,
   "metadata": {},
   "outputs": [],
   "source": [
    "#initialization \n",
    "import matplotlib.pyplot as plt\n",
    "import numpy as np\n",
    "\n",
    "from warnings import simplefilter \n",
    "simplefilter(action='ignore', category=DeprecationWarning)\n",
    "\n",
    "#importing qiskit\n",
    "from qiskit import IBMQ, Aer, assemble, transpile, execute\n",
    "from qiskit import QuantumCircuit, ClassicalRegister, QuantumRegister\n",
    "from qiskit.providers.ibmq import least_busy\n",
    "from qiskit.quantum_info import Operator\n",
    "\n",
    "#import basic plot tools\n",
    "from qiskit.visualization import plot_histogram"
   ]
  },
  {
   "cell_type": "code",
   "execution_count": 70,
   "metadata": {},
   "outputs": [],
   "source": [
    "def initialize_s(qc, qubits):\n",
    "    '''Apply H-gate to the qubits in \"qubits\"'''\n",
    "    qc.h(qubits)"
   ]
  },
  {
   "cell_type": "code",
   "execution_count": 71,
   "metadata": {},
   "outputs": [
    {
     "name": "stdout",
     "output_type": "stream",
     "text": [
      "[[-1.  0.  0.  0.]\n",
      " [ 0.  1.  0.  0.]\n",
      " [ 0.  0.  1.  0.]\n",
      " [ 0.  0.  0.  1.]]\n"
     ]
    },
    {
     "data": {
      "text/html": [
       "<pre style=\"word-wrap: normal;white-space: pre;background: #fff0;line-height: 1.1;font-family: &quot;Courier New&quot;,Courier,monospace\">     ┌──────────┐\n",
       "q_0: ┤0         ├\n",
       "     │  unitary │\n",
       "q_1: ┤1         ├\n",
       "     └──────────┘</pre>"
      ],
      "text/plain": [
       "     ┌──────────┐\n",
       "q_0: ┤0         ├\n",
       "     │  unitary │\n",
       "q_1: ┤1         ├\n",
       "     └──────────┘"
      ]
     },
     "execution_count": 71,
     "metadata": {},
     "output_type": "execute_result"
    }
   ],
   "source": [
    "def phase_oracle(num_qubits, marked_states):\n",
    "    '''Returns a phase_oracel circuit'''\n",
    "    qc = QuantumCircuit(num_qubits, name=\"phase-oracle\")\n",
    "    oracle_matrix = np.identity(2**n)\n",
    "    for q in marked_states:\n",
    "        oracle_matrix[q, q] = -1\n",
    "    print(oracle_matrix)\n",
    "    Uf = Operator(oracle_matrix)\n",
    "    qc.unitary(Uf, range(num_qubits))\n",
    "    return qc\n",
    "\n",
    "qc = phase_oracle(2, [0])\n",
    "qc.draw()"
   ]
  },
  {
   "cell_type": "code",
   "execution_count": 72,
   "metadata": {},
   "outputs": [],
   "source": [
    "def phase_oracle_11():\n",
    "    '''Return a phase oracle for the marked state |11>'''\n",
    "    qc = QuantumCircuit(2, name=\"phase-oracle-|11>\")\n",
    "    qc.cz(control_qubit=0, target_qubit=1)\n",
    "    return qc"
   ]
  },
  {
   "cell_type": "code",
   "execution_count": 73,
   "metadata": {},
   "outputs": [
    {
     "data": {
      "text/html": [
       "<pre style=\"word-wrap: normal;white-space: pre;background: #fff0;line-height: 1.1;font-family: &quot;Courier New&quot;,Courier,monospace\">     ┌───┐┌───┐   ┌───┐\n",
       "q_0: ┤ H ├┤ Z ├─■─┤ H ├\n",
       "     ├───┤├───┤ │ ├───┤\n",
       "q_1: ┤ H ├┤ Z ├─■─┤ H ├\n",
       "     └───┘└───┘   └───┘</pre>"
      ],
      "text/plain": [
       "     ┌───┐┌───┐   ┌───┐\n",
       "q_0: ┤ H ├┤ Z ├─■─┤ H ├\n",
       "     ├───┤├───┤ │ ├───┤\n",
       "q_1: ┤ H ├┤ Z ├─■─┤ H ├\n",
       "     └───┘└───┘   └───┘"
      ]
     },
     "execution_count": 73,
     "metadata": {},
     "output_type": "execute_result"
    }
   ],
   "source": [
    "def diffuser_2():\n",
    "    '''Return a diffuser for a 2 qubit circuit'''\n",
    "    qc = QuantumCircuit(2, name=\"diffuser-2\")\n",
    "    qc.h([0,1])\n",
    "    qc.z([0,1])\n",
    "    qc.cz(control_qubit=0, target_qubit=1)\n",
    "    qc.h([0,1])\n",
    "    return qc\n",
    "\n",
    "qc = diffuser_2()\n",
    "qc.draw()\n",
    "    "
   ]
  },
  {
   "cell_type": "code",
   "execution_count": 74,
   "metadata": {},
   "outputs": [],
   "source": [
    "def diffuser(num_qubits):\n",
    "    '''Returns a diffuser circuit'''\n",
    "    qc = QuantumCircuit(num_qubits, name=\"diffuser\")\n",
    "    qc.h(range(num_qubits))\n",
    "    qc.append(phase_oracle(num_qubits, [0]), range(n))\n",
    "    qc.h(range(num_qubits))\n",
    "    return qc"
   ]
  },
  {
   "cell_type": "code",
   "execution_count": 75,
   "metadata": {},
   "outputs": [],
   "source": [
    "def Grover(num_qubits, marked_states):\n",
    "    '''Returns a quantum circuit for Grover's algorithm'''\n",
    "    qc = QuantumCircuit(num_qubits, num_qubits, name=\"Grover\")\n",
    "\n",
    "    initialize_s(qc, range(num_qubits))\n",
    "    #qc.barrier()\n",
    "    m = len(marked_states)\n",
    "    r = int(np.pi/4*np.sqrt(2**n/len(marked_states)) - 0.5)\n",
    "    print(\"{0} repetitions will be performed, given {1} qubits and {2} marked state(s)\".format(r, num_qubits, m))\n",
    "\n",
    "    for iteration in range(r):\n",
    "        qc.append(phase_oracle(num_qubits, marked_states), range(num_qubits))\n",
    "        qc.append(diffuser(num_qubits), range(num_qubits))\n",
    "\n",
    "    #qc.barrier()\n",
    "    qc.measure(range(num_qubits), range(num_qubits))\n",
    "\n",
    "    return qc"
   ]
  },
  {
   "cell_type": "code",
   "execution_count": 76,
   "metadata": {},
   "outputs": [],
   "source": [
    "def Grover_11():\n",
    "    '''Returns a quantum circuit for Grover's algorithm for the\n",
    "    marked state |11>'''\n",
    "    qc = QuantumCircuit(2,2)\n",
    "    initialize_s(qc, [0,1])\n",
    "    qc.append(phase_oracle_11(), [0,1])\n",
    "    qc.append(diffuser_2(), [0,1])\n",
    "    \n",
    "    qc.measure([0,1], [0,1])\n",
    "    return qc"
   ]
  },
  {
   "cell_type": "code",
   "execution_count": 77,
   "metadata": {},
   "outputs": [
    {
     "data": {
      "text/html": [
       "<pre style=\"word-wrap: normal;white-space: pre;background: #fff0;line-height: 1.1;font-family: &quot;Courier New&quot;,Courier,monospace\">        ┌──────────┐          ┌──────────┐ ┌────────┐                     »\n",
       "q_0: |0>┤ U2(0,pi) ├───────■──┤ U2(0,pi) ├─┤ U1(pi) ├──────────────────■──»\n",
       "        ├──────────┤┌───┐┌─┴─┐└──┬───┬───┘┌┴────────┴┐┌────────┐┌───┐┌─┴─┐»\n",
       "q_1: |0>┤ U2(0,pi) ├┤ H ├┤ X ├───┤ H ├────┤ U2(0,pi) ├┤ U1(pi) ├┤ H ├┤ X ├»\n",
       "        └──────────┘└───┘└───┘   └───┘    └──────────┘└────────┘└───┘└───┘»\n",
       " c: 0 2/══════════════════════════════════════════════════════════════════»\n",
       "                                                                          »\n",
       "«     ┌──────────┐            \n",
       "«q_0: ┤ U2(0,pi) ├────────────\n",
       "«     └──┬───┬───┘┌──────────┐\n",
       "«q_1: ───┤ H ├────┤ U2(0,pi) ├\n",
       "«        └───┘    └──────────┘\n",
       "«c: 2/════════════════════════\n",
       "«                             </pre>"
      ],
      "text/plain": [
       "        ┌──────────┐          ┌──────────┐ ┌────────┐                     »\n",
       "q_0: |0>┤ U2(0,pi) ├───────■──┤ U2(0,pi) ├─┤ U1(pi) ├──────────────────■──»\n",
       "        ├──────────┤┌───┐┌─┴─┐└──┬───┬───┘┌┴────────┴┐┌────────┐┌───┐┌─┴─┐»\n",
       "q_1: |0>┤ U2(0,pi) ├┤ H ├┤ X ├───┤ H ├────┤ U2(0,pi) ├┤ U1(pi) ├┤ H ├┤ X ├»\n",
       "        └──────────┘└───┘└───┘   └───┘    └──────────┘└────────┘└───┘└───┘»\n",
       " c: 0 2/══════════════════════════════════════════════════════════════════»\n",
       "                                                                          »\n",
       "«     ┌──────────┐            \n",
       "«q_0: ┤ U2(0,pi) ├────────────\n",
       "«     └──┬───┬───┘┌──────────┐\n",
       "«q_1: ───┤ H ├────┤ U2(0,pi) ├\n",
       "«        └───┘    └──────────┘\n",
       "«c: 2/════════════════════════\n",
       "«                             "
      ]
     },
     "execution_count": 77,
     "metadata": {},
     "output_type": "execute_result"
    }
   ],
   "source": [
    "n = 2\n",
    "#grover_circuit = Grover_11() \n",
    "grover_circuit = QuantumCircuit(2,2)\n",
    "grover_circuit.h([0,1])\n",
    "grover_circuit.cz(0,1)\n",
    "grover_circuit.h([0,1])\n",
    "grover_circuit.z([0,1])\n",
    "grover_circuit.cz(0,1)\n",
    "grover_circuit.h([0,1])\n",
    "#QuantumCircuit(n, n)\n",
    "#grover_circuit.append(Grover(n, [0]), range(n))\n",
    "grover_circuit = grover_circuit.decompose()\n",
    "grover_circuit.draw('text', initial_state=True)\n"
   ]
  },
  {
   "cell_type": "code",
   "execution_count": 78,
   "metadata": {},
   "outputs": [
    {
     "data": {
      "image/png": "[encoded data removed]",
      "text/plain": [
       "<Figure size 504x360 with 1 Axes>"
      ]
     },
     "execution_count": 78,
     "metadata": {},
     "output_type": "execute_result"
    }
   ],
   "source": [
    "simulator = Aer.get_backend('qasm_simulator')\n",
    "counts = execute(grover_circuit, backend=simulator, shots=1000).result().get_counts(grover_circuit)\n",
    "plot_histogram(counts)"
   ]
  },
  {
   "cell_type": "code",
   "execution_count": 82,
   "metadata": {},
   "outputs": [],
   "source": [
    "from qiskit.circuit.random import random_circuit\n",
    "\n",
    "provider = IBMQ.get_provider(hub='ibm-q')\n",
    "backend = provider.get_backend('ibmq_lima')\n",
    "qx = random_circuit(n_qubits=5, depth=4)\n",
    "transpiled = transpile(qx, backend=backend)\n",
    "myobj = assemble(transpiled)\n",
    "job = backend.run(myobj)\n",
    "retrieved_job = backend.retrieve_job(job.job_id())"
   ]
  },
  {
   "cell_type": "code",
   "execution_count": 79,
   "metadata": {},
   "outputs": [
    {
     "name": "stderr",
     "output_type": "stream",
     "text": [
      "C:\\Users\\ivash\\anaconda3\\lib\\site-packages\\qiskit\\providers\\ibmq\\ibmqfactory.py:192: UserWarning: Timestamps in IBMQ backend properties, jobs, and job results are all now in local time instead of UTC.\n",
      "  warnings.warn('Timestamps in IBMQ backend properties, jobs, and job results '\n",
      "ibmqfactory.load_account:WARNING:2022-04-01 17:28:33,103: Credentials are already in use. The existing account in the session will be replaced.\n"
     ]
    },
    {
     "name": "stdout",
     "output_type": "stream",
     "text": [
      "Running on current least busy device:  ibmq_belem\n"
     ]
    }
   ],
   "source": [
    "# Load IBM Q account and get the least busy backend device\n",
    "provider = IBMQ.load_account()\n",
    "provider = IBMQ.get_provider(\"ibm-q\")\n",
    "device = least_busy(provider.backends(filters=lambda x: x.configuration().n_qubits >= 5 and \n",
    "                                   not x.configuration().simulator and x.status().operational==True))                                  \n",
    "print(\"Running on current least busy device: \", device)"
   ]
  },
  {
   "cell_type": "code",
   "execution_count": 86,
   "metadata": {},
   "outputs": [
    {
     "name": "stdout",
     "output_type": "stream",
     "text": [
      "Job Status: job is queued (12)    "
     ]
    },
    {
     "ename": "KeyboardInterrupt",
     "evalue": "",
     "output_type": "error",
     "traceback": [
      "\u001b[1;31m---------------------------------------------------------------------------\u001b[0m",
      "\u001b[1;31mKeyboardInterrupt\u001b[0m                         Traceback (most recent call last)",
      "\u001b[1;32m<ipython-input-86-eee2cbecabc4>\u001b[0m in \u001b[0;36m<module>\u001b[1;34m\u001b[0m\n\u001b[0;32m      4\u001b[0m \u001b[0mtranspiled_grover_circuit\u001b[0m\u001b[1;33m.\u001b[0m\u001b[0mdraw\u001b[0m\u001b[1;33m(\u001b[0m\u001b[1;33m)\u001b[0m\u001b[1;33m\u001b[0m\u001b[1;33m\u001b[0m\u001b[0m\n\u001b[0;32m      5\u001b[0m \u001b[0mjob\u001b[0m \u001b[1;33m=\u001b[0m \u001b[0mdevice\u001b[0m\u001b[1;33m.\u001b[0m\u001b[0mrun\u001b[0m\u001b[1;33m(\u001b[0m\u001b[0massemble\u001b[0m\u001b[1;33m(\u001b[0m\u001b[0mtranspiled_grover_circuit\u001b[0m\u001b[1;33m)\u001b[0m\u001b[1;33m)\u001b[0m\u001b[1;33m\u001b[0m\u001b[1;33m\u001b[0m\u001b[0m\n\u001b[1;32m----> 6\u001b[1;33m \u001b[0mjob_monitor\u001b[0m\u001b[1;33m(\u001b[0m\u001b[0mjob\u001b[0m\u001b[1;33m,\u001b[0m \u001b[0minterval\u001b[0m\u001b[1;33m=\u001b[0m\u001b[1;36m2\u001b[0m\u001b[1;33m)\u001b[0m\u001b[1;33m\u001b[0m\u001b[1;33m\u001b[0m\u001b[0m\n\u001b[0m",
      "\u001b[1;32m~\\anaconda3\\lib\\site-packages\\qiskit\\tools\\monitor\\job_monitor.py\u001b[0m in \u001b[0;36mjob_monitor\u001b[1;34m(job, interval, quiet, output)\u001b[0m\n\u001b[0;32m     83\u001b[0m         \u001b[0m_interval_set\u001b[0m \u001b[1;33m=\u001b[0m \u001b[1;32mTrue\u001b[0m\u001b[1;33m\u001b[0m\u001b[1;33m\u001b[0m\u001b[0m\n\u001b[0;32m     84\u001b[0m \u001b[1;33m\u001b[0m\u001b[0m\n\u001b[1;32m---> 85\u001b[1;33m     _text_checker(job, interval, _interval_set,\n\u001b[0m\u001b[0;32m     86\u001b[0m                   quiet=quiet, output=output)\n",
      "\u001b[1;32m~\\anaconda3\\lib\\site-packages\\qiskit\\tools\\monitor\\job_monitor.py\u001b[0m in \u001b[0;36m_text_checker\u001b[1;34m(job, interval, _interval_set, quiet, output)\u001b[0m\n\u001b[0;32m     40\u001b[0m         \u001b[0mprint\u001b[0m\u001b[1;33m(\u001b[0m\u001b[1;34m'\\r%s: %s'\u001b[0m \u001b[1;33m%\u001b[0m \u001b[1;33m(\u001b[0m\u001b[1;34m'Job Status'\u001b[0m\u001b[1;33m,\u001b[0m \u001b[0mmsg\u001b[0m\u001b[1;33m)\u001b[0m\u001b[1;33m,\u001b[0m \u001b[0mend\u001b[0m\u001b[1;33m=\u001b[0m\u001b[1;34m''\u001b[0m\u001b[1;33m,\u001b[0m \u001b[0mfile\u001b[0m\u001b[1;33m=\u001b[0m\u001b[0moutput\u001b[0m\u001b[1;33m)\u001b[0m\u001b[1;33m\u001b[0m\u001b[1;33m\u001b[0m\u001b[0m\n\u001b[0;32m     41\u001b[0m     \u001b[1;32mwhile\u001b[0m \u001b[0mstatus\u001b[0m\u001b[1;33m.\u001b[0m\u001b[0mname\u001b[0m \u001b[1;32mnot\u001b[0m \u001b[1;32min\u001b[0m \u001b[1;33m[\u001b[0m\u001b[1;34m'DONE'\u001b[0m\u001b[1;33m,\u001b[0m \u001b[1;34m'CANCELLED'\u001b[0m\u001b[1;33m,\u001b[0m \u001b[1;34m'ERROR'\u001b[0m\u001b[1;33m]\u001b[0m\u001b[1;33m:\u001b[0m\u001b[1;33m\u001b[0m\u001b[1;33m\u001b[0m\u001b[0m\n\u001b[1;32m---> 42\u001b[1;33m         \u001b[0mtime\u001b[0m\u001b[1;33m.\u001b[0m\u001b[0msleep\u001b[0m\u001b[1;33m(\u001b[0m\u001b[0minterval\u001b[0m\u001b[1;33m)\u001b[0m\u001b[1;33m\u001b[0m\u001b[1;33m\u001b[0m\u001b[0m\n\u001b[0m\u001b[0;32m     43\u001b[0m         \u001b[0mstatus\u001b[0m \u001b[1;33m=\u001b[0m \u001b[0mjob\u001b[0m\u001b[1;33m.\u001b[0m\u001b[0mstatus\u001b[0m\u001b[1;33m(\u001b[0m\u001b[1;33m)\u001b[0m\u001b[1;33m\u001b[0m\u001b[1;33m\u001b[0m\u001b[0m\n\u001b[0;32m     44\u001b[0m         \u001b[0mmsg\u001b[0m \u001b[1;33m=\u001b[0m \u001b[0mstatus\u001b[0m\u001b[1;33m.\u001b[0m\u001b[0mvalue\u001b[0m\u001b[1;33m\u001b[0m\u001b[1;33m\u001b[0m\u001b[0m\n",
      "\u001b[1;31mKeyboardInterrupt\u001b[0m: "
     ]
    }
   ],
   "source": [
    "from qiskit.tools.monitor import job_monitor\n",
    "device = provider.get_backend('ibmq_lima')\n",
    "transpiled_grover_circuit = transpile(grover_circuit, backend=device)\n",
    "transpiled_grover_circuit.draw()\n",
    "job = device.run(assemble(transpiled_grover_circuit))\n",
    "job_monitor(job, interval=2)"
   ]
  },
  {
   "cell_type": "code",
   "execution_count": 85,
   "metadata": {},
   "outputs": [],
   "source": [
    "results = job.result()\n",
    "answer = results.get_counts(grover_circuit)\n",
    "plot_histogram(answer)"
   ]
  }
 ],
 "metadata": {
  "interpreter": {
   "hash": "08c9c49d27e68bdd458820e26d3758366881487861c502456df1e241cab4de5a"
  },
  "kernelspec": {
   "display_name": "Python 3.8.8 ('base')",
   "language": "python",
   "name": "python3"
  },
  "language_info": {
   "codemirror_mode": {
    "name": "ipython",
    "version": 3
   },
   "file_extension": ".py",
   "mimetype": "text/x-python",
   "name": "python",
   "nbconvert_exporter": "python",
   "pygments_lexer": "ipython3",
   "version": "3.8.8"
  },
  "orig_nbformat": 4
 },
 "nbformat": 4,
 "nbformat_minor": 2
}
