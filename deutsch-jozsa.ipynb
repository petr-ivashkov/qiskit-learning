{
 "cells": [
  {
   "cell_type": "code",
   "execution_count": 6,
   "metadata": {},
   "outputs": [],
   "source": [
    "#initialization \n",
    "import matplotlib.pyplot as plt\n",
    "import numpy as np\n",
    "\n",
    "from warnings import simplefilter \n",
    "simplefilter(action='ignore', category=DeprecationWarning)\n",
    "\n",
    "#importing qiskit\n",
    "from qiskit import IBMQ, Aer, assemble, transpile, execute\n",
    "from qiskit import QuantumCircuit, ClassicalRegister, QuantumRegister\n",
    "from qiskit.providers.ibmq import least_busy\n",
    "from qiskit.quantum_info import Operator\n",
    "\n",
    "#import basic plot tools\n",
    "from qiskit.visualization import plot_histogram"
   ]
  },
  {
   "cell_type": "code",
   "execution_count": 88,
   "metadata": {},
   "outputs": [],
   "source": [
    "def oracle(qc, num_qubits, type='random'):\n",
    "    '''Applies an oracle of the given type: balanced or constant.'''\n",
    "    if type == 'constant':\n",
    "        output = np.random.randint(2)\n",
    "        if output == 1:\n",
    "            qc.x(num_qubits)\n",
    "            return qc\n",
    "        qc.i(num_qubits)\n",
    "        return qc\n",
    "    if type == 'balanced':\n",
    "        # create a random bitstring to denote marked states\n",
    "        key = \"\"\n",
    "        for _ in range(num_qubits):\n",
    "            x = str(np.random.randint(2))\n",
    "            key += x\n",
    "        # apply an X gate to qubits denoted with '1' in 'key'\n",
    "        for q in range(len(key)):\n",
    "            if key[q] == '1':\n",
    "                qc.x(q)\n",
    "        #qc.barrier()\n",
    "\n",
    "        qc.cx(range(num_qubits), num_qubits)\n",
    "        #qc.barrier()\n",
    "        # return controlling qubits back to initial state\n",
    "        for q in range(len(key)):\n",
    "            if key[q] == '1':\n",
    "                qc.x(q)\n",
    "        return qc\n",
    "\n",
    "    i = np.random.randint(2)\n",
    "    if i == 1: \n",
    "        return oracle(qc, num_qubits, 'balanced')\n",
    "    else: return oracle(qc, num_qubits, 'constant')"
   ]
  },
  {
   "cell_type": "code",
   "execution_count": 94,
   "metadata": {},
   "outputs": [
    {
     "data": {
      "text/html": [
       "<pre style=\"word-wrap: normal;white-space: pre;background: #fff0;line-height: 1.1;font-family: &quot;Courier New&quot;,Courier,monospace\">       ┌───┐          ┌───┐     ┌─┐        \n",
       "q59_0: ┤ H ├───────■──┤ H ├─────┤M├────────\n",
       "       ├───┤┌───┐  │  └───┘┌───┐└╥┘┌───┐┌─┐\n",
       "q59_1: ┤ H ├┤ X ├──┼────■──┤ X ├─╫─┤ H ├┤M├\n",
       "       ├───┤├───┤┌─┴─┐┌─┴─┐└───┘ ║ └───┘└╥┘\n",
       "q60_0: ┤ X ├┤ H ├┤ X ├┤ X ├──────╫───────╫─\n",
       "       └───┘└───┘└───┘└───┘      ║       ║ \n",
       "c16: 2/══════════════════════════╩═══════╩═\n",
       "                                 0       1 </pre>"
      ],
      "text/plain": [
       "       ┌───┐          ┌───┐     ┌─┐        \n",
       "q59_0: ┤ H ├───────■──┤ H ├─────┤M├────────\n",
       "       ├───┤┌───┐  │  └───┘┌───┐└╥┘┌───┐┌─┐\n",
       "q59_1: ┤ H ├┤ X ├──┼────■──┤ X ├─╫─┤ H ├┤M├\n",
       "       ├───┤├───┤┌─┴─┐┌─┴─┐└───┘ ║ └───┘└╥┘\n",
       "q60_0: ┤ X ├┤ H ├┤ X ├┤ X ├──────╫───────╫─\n",
       "       └───┘└───┘└───┘└───┘      ║       ║ \n",
       "c16: 2/══════════════════════════╩═══════╩═\n",
       "                                 0       1 "
      ]
     },
     "execution_count": 94,
     "metadata": {},
     "output_type": "execute_result"
    }
   ],
   "source": [
    "def Deutsch_Jozsa(num_qubits, oracle_type='random'):\n",
    "    '''Returns a Deutsch_Jozsa circuit for a given number of qubits.'''\n",
    "    state_qubits = QuantumRegister(num_qubits)\n",
    "    output_qubit = QuantumRegister(1)\n",
    "    cbits = ClassicalRegister(num_qubits)\n",
    "    qc = QuantumCircuit(state_qubits, output_qubit, cbits)\n",
    "    # set state qubits to |+> and output qubit to |-> state\n",
    "    qc.h(state_qubits) \n",
    "    qc.x(output_qubit)\n",
    "    qc.h(output_qubit)\n",
    "    #qc.barrier()\n",
    "    oracle(qc, num_qubits)\n",
    "    #qc.barrier()\n",
    "    qc.h(state_qubits)\n",
    "    #qc.barrier()\n",
    "    qc.measure(state_qubits, cbits)\n",
    "    return qc\n",
    "\n",
    "qc = Deutsch_Jozsa(2)\n",
    "qc.draw()"
   ]
  },
  {
   "cell_type": "code",
   "execution_count": 95,
   "metadata": {},
   "outputs": [
    {
     "data": {
      "image/png": "[encoded data removed]",
      "text/plain": [
       "<Figure size 504x360 with 1 Axes>"
      ]
     },
     "execution_count": 95,
     "metadata": {},
     "output_type": "execute_result"
    }
   ],
   "source": [
    "simulator = Aer.get_backend('qasm_simulator')\n",
    "myobj = assemble(qc, simulator)\n",
    "result = simulator.run(myobj).result()\n",
    "\n",
    "plot_histogram(result.get_counts())"
   ]
  },
  {
   "cell_type": "code",
   "execution_count": 83,
   "metadata": {},
   "outputs": [
    {
     "name": "stderr",
     "output_type": "stream",
     "text": [
      "C:\\Users\\ivash\\anaconda3\\lib\\site-packages\\qiskit\\providers\\ibmq\\ibmqfactory.py:192: UserWarning: Timestamps in IBMQ backend properties, jobs, and job results are all now in local time instead of UTC.\n",
      "  warnings.warn('Timestamps in IBMQ backend properties, jobs, and job results '\n"
     ]
    },
    {
     "name": "stdout",
     "output_type": "stream",
     "text": [
      "Running on current least busy device:  ibmq_belem\n"
     ]
    }
   ],
   "source": [
    "provider = IBMQ.load_account()\n",
    "provider = IBMQ.get_provider(\"ibm-q\")\n",
    "device = least_busy(provider.backends(filters=lambda x: x.configuration().n_qubits >= 5 and \n",
    "                                   not x.configuration().simulator and x.status().operational==True))                                  \n",
    "print(\"Running on current least busy device: \", device)"
   ]
  },
  {
   "cell_type": "code",
   "execution_count": 98,
   "metadata": {},
   "outputs": [
    {
     "name": "stdout",
     "output_type": "stream",
     "text": [
      "Job Status: job has successfully run\n"
     ]
    }
   ],
   "source": [
    "from qiskit.tools.monitor import job_monitor\n",
    "transpiled_qc = transpile(qc, device)\n",
    "#transpiled_qc.draw()\n",
    "job = device.run(assemble(transpiled_qc, device))\n",
    "job_monitor(job, interval=2)"
   ]
  },
  {
   "cell_type": "code",
   "execution_count": 99,
   "metadata": {},
   "outputs": [
    {
     "data": {
      "image/png": "[encoded data removed]",
      "text/plain": [
       "<Figure size 504x360 with 1 Axes>"
      ]
     },
     "execution_count": 99,
     "metadata": {},
     "output_type": "execute_result"
    }
   ],
   "source": [
    "result = job.result()\n",
    "plot_histogram(result.get_counts())"
   ]
  }
 ],
 "metadata": {
  "interpreter": {
   "hash": "08c9c49d27e68bdd458820e26d3758366881487861c502456df1e241cab4de5a"
  },
  "kernelspec": {
   "display_name": "Python 3.8.8 ('base')",
   "language": "python",
   "name": "python3"
  },
  "language_info": {
   "codemirror_mode": {
    "name": "ipython",
    "version": 3
   },
   "file_extension": ".py",
   "mimetype": "text/x-python",
   "name": "python",
   "nbconvert_exporter": "python",
   "pygments_lexer": "ipython3",
   "version": "3.8.8"
  },
  "orig_nbformat": 4
 },
 "nbformat": 4,
 "nbformat_minor": 2
}
