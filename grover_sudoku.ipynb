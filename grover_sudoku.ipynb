{
 "cells": [
  {
   "cell_type": "code",
   "execution_count": 2,
   "metadata": {},
   "outputs": [],
   "source": [
    "#initialization \n",
    "import matplotlib.pyplot as plt\n",
    "import numpy as np\n",
    "\n",
    "from warnings import simplefilter \n",
    "simplefilter(action='ignore', category=DeprecationWarning)\n",
    "\n",
    "#importing qiskit\n",
    "from qiskit import IBMQ, Aer, assemble, transpile, execute\n",
    "from qiskit import QuantumCircuit, ClassicalRegister, QuantumRegister\n",
    "from qiskit.providers.ibmq import least_busy\n",
    "from qiskit.quantum_info import Operator\n",
    "\n",
    "#import basic plot tools\n",
    "from qiskit.visualization import plot_histogram"
   ]
  },
  {
   "cell_type": "code",
   "execution_count": 3,
   "metadata": {},
   "outputs": [],
   "source": [
    "def XOR(qc, q1, q2, out):\n",
    "    qc.cx(q1, out)\n",
    "    qc.cx(q2, out)"
   ]
  },
  {
   "cell_type": "code",
   "execution_count": 9,
   "metadata": {},
   "outputs": [],
   "source": [
    "def general_gate_diffuser(num_qubits):\n",
    "    '''Return a diffuser for a given number of qubits built of gates'''\n",
    "    qc = QuantumCircuit(num_qubits, name='gate-diffuser')\n",
    "    qc.h(range(num_qubits))\n",
    "    qc.x(range(num_qubits))\n",
    "    # apply multi controlled Z gate\n",
    "    qc.h(0)\n",
    "    qc.mct(control_qubits=list(range(1,num_qubits)), target_qubit=0)\n",
    "    qc.h(0)\n",
    "    #qc.barrier()\n",
    "    qc.x(range(num_qubits))\n",
    "    qc.h(range(num_qubits))\n",
    "    return qc"
   ]
  },
  {
   "cell_type": "code",
   "execution_count": 16,
   "metadata": {},
   "outputs": [],
   "source": [
    "def sudoku_oracle(qc, check_pairs, condition_qubits, output_qubit):\n",
    "    for i in range(4):\n",
    "        XOR(qc, check_pairs[i][0], check_pairs[i][1], condition_qubits[i])\n",
    "    # flip the output qubit if all conditions are satisfied\n",
    "    qc.mct(condition_qubits, output_qubit)\n",
    "    # uncompute condition qubits to reset them to 0\n",
    "    for i in range(4):\n",
    "        XOR(qc, check_pairs[i][0], check_pairs[i][1], condition_qubits[i])"
   ]
  },
  {
   "cell_type": "code",
   "execution_count": 17,
   "metadata": {},
   "outputs": [],
   "source": [
    "check_pairs = [[0,1], [0,2], [1,3], [2,3]]\n",
    "var_qubits = QuantumRegister(4, name='v')\n",
    "condition_qubits = QuantumRegister(4, name='o')\n",
    "output_qubit = QuantumRegister(1, name='output')\n",
    "cbits = ClassicalRegister(4, name='cbits')\n",
    "qc = QuantumCircuit(var_qubits, condition_qubits, output_qubit, cbits, name='sudoku')"
   ]
  },
  {
   "cell_type": "code",
   "execution_count": 18,
   "metadata": {},
   "outputs": [
    {
     "data": {
      "text/html": [
       "<pre style=\"word-wrap: normal;white-space: pre;background: #fff0;line-height: 1.1;font-family: &quot;Courier New&quot;,Courier,monospace\">                       ┌───┐               ░                                                                                       ░ ┌────────────────┐┌─┐         \n",
       "     v_0: ─────────────┤ H ├───────────────░───■─────────■──────────────────────────────────■─────────■────────────────────────────░─┤0               ├┤M├─────────\n",
       "                       ├───┤               ░   │         │                                  │         │                            ░ │                │└╥┘┌─┐      \n",
       "     v_1: ─────────────┤ H ├───────────────░───┼────■────┼─────────■────────────────────────┼────■────┼─────────■──────────────────░─┤1               ├─╫─┤M├──────\n",
       "                       ├───┤               ░   │    │    │         │                        │    │    │         │                  ░ │  gate-diffuser │ ║ └╥┘┌─┐   \n",
       "     v_2: ─────────────┤ H ├───────────────░───┼────┼────┼────■────┼─────────■──────────────┼────┼────┼────■────┼─────────■────────░─┤2               ├─╫──╫─┤M├───\n",
       "                       ├───┤               ░   │    │    │    │    │         │              │    │    │    │    │         │        ░ │                │ ║  ║ └╥┘┌─┐\n",
       "     v_3: ─────────────┤ H ├───────────────░───┼────┼────┼────┼────┼────■────┼────■─────────┼────┼────┼────┼────┼────■────┼────■───░─┤3               ├─╫──╫──╫─┤M├\n",
       "                       └───┘               ░ ┌─┴─┐┌─┴─┐  │    │    │    │    │    │       ┌─┴─┐┌─┴─┐  │    │    │    │    │    │   ░ └────────────────┘ ║  ║  ║ └╥┘\n",
       "     o_0: ─────────────────────────────────░─┤ X ├┤ X ├──┼────┼────┼────┼────┼────┼────■──┤ X ├┤ X ├──┼────┼────┼────┼────┼────┼───░────────────────────╫──╫──╫──╫─\n",
       "                                           ░ └───┘└───┘┌─┴─┐┌─┴─┐  │    │    │    │    │  └───┘└───┘┌─┴─┐┌─┴─┐  │    │    │    │   ░                    ║  ║  ║  ║ \n",
       "     o_1: ─────────────────────────────────░───────────┤ X ├┤ X ├──┼────┼────┼────┼────■────────────┤ X ├┤ X ├──┼────┼────┼────┼───░────────────────────╫──╫──╫──╫─\n",
       "                                           ░           └───┘└───┘┌─┴─┐┌─┴─┐  │    │    │            └───┘└───┘┌─┴─┐┌─┴─┐  │    │   ░                    ║  ║  ║  ║ \n",
       "     o_2: ─────────────────────────────────░─────────────────────┤ X ├┤ X ├──┼────┼────■──────────────────────┤ X ├┤ X ├──┼────┼───░────────────────────╫──╫──╫──╫─\n",
       "                                           ░                     └───┘└───┘┌─┴─┐┌─┴─┐  │                      └───┘└───┘┌─┴─┐┌─┴─┐ ░                    ║  ║  ║  ║ \n",
       "     o_3: ─────────────────────────────────░───────────────────────────────┤ X ├┤ X ├──■────────────────────────────────┤ X ├┤ X ├─░────────────────────╫──╫──╫──╫─\n",
       "          ┌──────────────────────────────┐ ░                               └───┘└───┘┌─┴─┐                              └───┘└───┘ ░                    ║  ║  ║  ║ \n",
       "output_0: ┤ initialize(0.70711,-0.70711) ├─░─────────────────────────────────────────┤ X ├─────────────────────────────────────────░────────────────────╫──╫──╫──╫─\n",
       "          └──────────────────────────────┘ ░                                         └───┘                                         ░                    ║  ║  ║  ║ \n",
       " cbits: 4/══════════════════════════════════════════════════════════════════════════════════════════════════════════════════════════════════════════════╩══╩══╩══╩═\n",
       "                                                                                                                                                        0  1  2  3 </pre>"
      ],
      "text/plain": [
       "                       ┌───┐               ░                                                                                       ░ ┌────────────────┐┌─┐         \n",
       "     v_0: ─────────────┤ H ├───────────────░───■─────────■──────────────────────────────────■─────────■────────────────────────────░─┤0               ├┤M├─────────\n",
       "                       ├───┤               ░   │         │                                  │         │                            ░ │                │└╥┘┌─┐      \n",
       "     v_1: ─────────────┤ H ├───────────────░───┼────■────┼─────────■────────────────────────┼────■────┼─────────■──────────────────░─┤1               ├─╫─┤M├──────\n",
       "                       ├───┤               ░   │    │    │         │                        │    │    │         │                  ░ │  gate-diffuser │ ║ └╥┘┌─┐   \n",
       "     v_2: ─────────────┤ H ├───────────────░───┼────┼────┼────■────┼─────────■──────────────┼────┼────┼────■────┼─────────■────────░─┤2               ├─╫──╫─┤M├───\n",
       "                       ├───┤               ░   │    │    │    │    │         │              │    │    │    │    │         │        ░ │                │ ║  ║ └╥┘┌─┐\n",
       "     v_3: ─────────────┤ H ├───────────────░───┼────┼────┼────┼────┼────■────┼────■─────────┼────┼────┼────┼────┼────■────┼────■───░─┤3               ├─╫──╫──╫─┤M├\n",
       "                       └───┘               ░ ┌─┴─┐┌─┴─┐  │    │    │    │    │    │       ┌─┴─┐┌─┴─┐  │    │    │    │    │    │   ░ └────────────────┘ ║  ║  ║ └╥┘\n",
       "     o_0: ─────────────────────────────────░─┤ X ├┤ X ├──┼────┼────┼────┼────┼────┼────■──┤ X ├┤ X ├──┼────┼────┼────┼────┼────┼───░────────────────────╫──╫──╫──╫─\n",
       "                                           ░ └───┘└───┘┌─┴─┐┌─┴─┐  │    │    │    │    │  └───┘└───┘┌─┴─┐┌─┴─┐  │    │    │    │   ░                    ║  ║  ║  ║ \n",
       "     o_1: ─────────────────────────────────░───────────┤ X ├┤ X ├──┼────┼────┼────┼────■────────────┤ X ├┤ X ├──┼────┼────┼────┼───░────────────────────╫──╫──╫──╫─\n",
       "                                           ░           └───┘└───┘┌─┴─┐┌─┴─┐  │    │    │            └───┘└───┘┌─┴─┐┌─┴─┐  │    │   ░                    ║  ║  ║  ║ \n",
       "     o_2: ─────────────────────────────────░─────────────────────┤ X ├┤ X ├──┼────┼────■──────────────────────┤ X ├┤ X ├──┼────┼───░────────────────────╫──╫──╫──╫─\n",
       "                                           ░                     └───┘└───┘┌─┴─┐┌─┴─┐  │                      └───┘└───┘┌─┴─┐┌─┴─┐ ░                    ║  ║  ║  ║ \n",
       "     o_3: ─────────────────────────────────░───────────────────────────────┤ X ├┤ X ├──■────────────────────────────────┤ X ├┤ X ├─░────────────────────╫──╫──╫──╫─\n",
       "          ┌──────────────────────────────┐ ░                               └───┘└───┘┌─┴─┐                              └───┘└───┘ ░                    ║  ║  ║  ║ \n",
       "output_0: ┤ initialize(0.70711,-0.70711) ├─░─────────────────────────────────────────┤ X ├─────────────────────────────────────────░────────────────────╫──╫──╫──╫─\n",
       "          └──────────────────────────────┘ ░                                         └───┘                                         ░                    ║  ║  ║  ║ \n",
       " cbits: 4/══════════════════════════════════════════════════════════════════════════════════════════════════════════════════════════════════════════════╩══╩══╩══╩═\n",
       "                                                                                                                                                        0  1  2  3 "
      ]
     },
     "execution_count": 18,
     "metadata": {},
     "output_type": "execute_result"
    }
   ],
   "source": [
    "qc.initialize([1,-1]/np.sqrt(2), output_qubit)\n",
    "\n",
    "qc.h(var_qubits)\n",
    "qc.barrier()\n",
    "\n",
    "sudoku_oracle(qc, check_pairs, condition_qubits, output_qubit)\n",
    "qc.barrier()\n",
    "\n",
    "qc.append(general_gate_diffuser(4), range(4))\n",
    "\n",
    "qc.measure(var_qubits, cbits)\n",
    "\n",
    "qc.draw(fold=-1)"
   ]
  },
  {
   "cell_type": "code",
   "execution_count": 20,
   "metadata": {},
   "outputs": [
    {
     "data": {
      "image/png": "[encoded data removed]",
      "text/plain": [
       "<Figure size 504x360 with 1 Axes>"
      ]
     },
     "execution_count": 20,
     "metadata": {},
     "output_type": "execute_result"
    }
   ],
   "source": [
    "simulator = Aer.get_backend('qasm_simulator')\n",
    "transpiled_qc = transpile(qc, simulator)\n",
    "obj = assemble(transpiled_qc)\n",
    "result = simulator.run(obj).result()\n",
    "plot_histogram(result.get_counts())"
   ]
  }
 ],
 "metadata": {
  "interpreter": {
   "hash": "08c9c49d27e68bdd458820e26d3758366881487861c502456df1e241cab4de5a"
  },
  "kernelspec": {
   "display_name": "Python 3.8.8 ('base')",
   "language": "python",
   "name": "python3"
  },
  "language_info": {
   "codemirror_mode": {
    "name": "ipython",
    "version": 3
   },
   "file_extension": ".py",
   "mimetype": "text/x-python",
   "name": "python",
   "nbconvert_exporter": "python",
   "pygments_lexer": "ipython3",
   "version": "3.8.8"
  },
  "orig_nbformat": 4
 },
 "nbformat": 4,
 "nbformat_minor": 2
}
