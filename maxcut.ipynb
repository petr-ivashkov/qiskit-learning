{
 "cells": [
  {
   "cell_type": "code",
   "execution_count": 2,
   "metadata": {},
   "outputs": [],
   "source": [
    "#initialization \n",
    "import matplotlib.pyplot as plt\n",
    "import plotly.graph_objects as go\n",
    "import networkx as nx\n",
    "import numpy as np\n",
    "\n",
    "from warnings import simplefilter \n",
    "simplefilter(action='ignore', category=DeprecationWarning)\n",
    "\n",
    "#importing qiskit\n",
    "import qiskit\n",
    "from qiskit import IBMQ, Aer, assemble, transpile, execute\n",
    "from qiskit import QuantumCircuit, ClassicalRegister, QuantumRegister\n",
    "from qiskit.providers.ibmq import least_busy\n",
    "from qiskit.quantum_info import Operator\n",
    "from qiskit.circuit import Parameter, ParameterVector\n",
    "from qiskit.optimization import QuadraticProgram\n",
    "\n",
    "#import basic plot tools\n",
    "from qiskit.visualization import plot_histogram, plot_state_city\n"
   ]
  },
  {
   "cell_type": "code",
   "execution_count": 3,
   "metadata": {},
   "outputs": [],
   "source": [
    "def quadratic_program_from_graph(graph: nx.Graph) -> QuadraticProgram:\n",
    "    '''Constructs a QuadraticProblem from a given graph for a MAXCUT instance.\n",
    "    Args:\n",
    "        graph: UNderlying graph of the problem\n",
    "    Returns: \n",
    "        QuadraticProblem\n",
    "    '''\n",
    "    # get weight matrix from the graph\n",
    "    weight_matrix = nx.adjacency_matrix(graph)\n",
    "    shape = weight_matrix.shape\n",
    "    size = shape[0]\n",
    "    # build QUBO matrix Q from weight matrix\n",
    "    qubo_matrix = np.zeros((size, size))\n",
    "    qubo_vector = np.zeros(size)\n",
    "    for i in range(size):\n",
    "        for j in range(size):\n",
    "            qubo_matrix[i,j] -= weight_matrix[i, j]\n",
    "            qubo_vector[i] += weight_matrix[i,j]\n",
    "    # define the quadraric program\n",
    "    quadratic_program = QuadraticProgram('maxcut')\n",
    "    for i in range(size):\n",
    "        var_name = 'x_{}'.format(i)\n",
    "        quadratic_program.binary_var(var_name)\n",
    "    quadratic_program.maximize(quadratic=qubo_matrix, linear=qubo_vector, constant=0)\n",
    "    #print(quadratic_program.export_as_lp_string())\n",
    "    return quadratic_program"
   ]
  },
  {
   "cell_type": "code",
   "execution_count": 4,
   "metadata": {},
   "outputs": [
    {
     "data": {
      "image/png": "[encoded data removed]",
      "text/plain": [
       "<Figure size 432x288 with 1 Axes>"
      ]
     },
     "metadata": {},
     "output_type": "display_data"
    }
   ],
   "source": [
    "import networkx as nx\n",
    "\n",
    "graph = nx.Graph()\n",
    "# add nodes and edges\n",
    "graph.add_nodes_from(np.arange(0,6,1))\n",
    "edges = [(0,1,2.0), (0,2,3.0), (0,4,4.0), (0,5,1.0), (1,2,4.0), (1,3,1.0), (1,4,1.0), (1,5,3.0), (2,4,2.0), (2,5,3.0), (3,4,5.0), (3,5,1.0)]\n",
    "graph.add_weighted_edges_from(edges)\n",
    "nx.draw(graph)"
   ]
  },
  {
   "cell_type": "code",
   "execution_count": 5,
   "metadata": {},
   "outputs": [
    {
     "name": "stdout",
     "output_type": "stream",
     "text": [
      "\\ This file has been generated by DOcplex\n",
      "\\ ENCODING=ISO-8859-1\n",
      "\\Problem name: maxcut\n",
      "\n",
      "Maximize\n",
      " obj: 10 x_0 + 11 x_1 + 12 x_2 + 7 x_3 + 12 x_4 + 8 x_5 + [ - 8 x_0*x_1\n",
      "      - 12 x_0*x_2 - 16 x_0*x_4 - 4 x_0*x_5 - 16 x_1*x_2 - 4 x_1*x_3 - 4 x_1*x_4\n",
      "      - 12 x_1*x_5 - 8 x_2*x_4 - 12 x_2*x_5 - 20 x_3*x_4 - 4 x_3*x_5 ]/2\n",
      "Subject To\n",
      "\n",
      "Bounds\n",
      " 0 <= x_0 <= 1\n",
      " 0 <= x_1 <= 1\n",
      " 0 <= x_2 <= 1\n",
      " 0 <= x_3 <= 1\n",
      " 0 <= x_4 <= 1\n",
      " 0 <= x_5 <= 1\n",
      "\n",
      "Binaries\n",
      " x_0 x_1 x_2 x_3 x_4 x_5\n",
      "End\n",
      "\n"
     ]
    }
   ],
   "source": [
    "qpx = quadratic_program_from_graph(graph)\n",
    "print(qpx.export_as_lp_string())"
   ]
  },
  {
   "cell_type": "code",
   "execution_count": 6,
   "metadata": {},
   "outputs": [
    {
     "name": "stdout",
     "output_type": "stream",
     "text": [
      "\\ This file has been generated by DOcplex\n",
      "\\ ENCODING=ISO-8859-1\n",
      "\\Problem name: maxcut\n",
      "\n",
      "Maximize\n",
      " obj: 10 x_0 + 11 x_1 + 12 x_2 + 7 x_3 + 12 x_4 + 8 x_5 + [ - 8 x_0*x_1\n",
      "      - 12 x_0*x_2 - 16 x_0*x_4 - 4 x_0*x_5 - 16 x_1*x_2 - 4 x_1*x_3 - 4 x_1*x_4\n",
      "      - 12 x_1*x_5 - 8 x_2*x_4 - 12 x_2*x_5 - 20 x_3*x_4 - 4 x_3*x_5 ]/2\n",
      "Subject To\n",
      "\n",
      "Bounds\n",
      " 0 <= x_0 <= 1\n",
      " 0 <= x_1 <= 1\n",
      " 0 <= x_2 <= 1\n",
      " 0 <= x_3 <= 1\n",
      " 0 <= x_4 <= 1\n",
      " 0 <= x_5 <= 1\n",
      "\n",
      "Binaries\n",
      " x_0 x_1 x_2 x_3 x_4 x_5\n",
      "End\n",
      "\n"
     ]
    }
   ],
   "source": [
    "qp = quadratic_program_from_graph(graph)\n",
    "print(qp.export_as_lp_string())"
   ]
  },
  {
   "cell_type": "code",
   "execution_count": 7,
   "metadata": {},
   "outputs": [],
   "source": [
    "from qiskit.aqua.algorithms import QAOA\n",
    "from qiskit.optimization.algorithms import admm_optimizer\n",
    "\n",
    "#size = qp.get_num_vars()\n",
    "#operator, _ = qp.to_ising()\n",
    "#p = 1 # depth of the ansatz \n"
   ]
  },
  {
   "cell_type": "code",
   "execution_count": 71,
   "metadata": {},
   "outputs": [],
   "source": [
    "def qaoa_circuit(qubo: QuadraticProgram, gammas, betas, p: int = 1):\n",
    "    '''\n",
    "    Given a QUBO instance and the number of layers, construct \n",
    "    a corresponding parametrized circuit with p layers.\n",
    "    Args:\n",
    "        qubo: The quadratic qubo instance\n",
    "        p: The number of layers in the QAOA circuit\n",
    "    Returns: \n",
    "        The parametrized QAOA circuit\n",
    "    '''\n",
    "    size = len(qubo.variables)\n",
    "    qubo_matrix = qubo.objective.quadratic.to_array(symmetric=True)\n",
    "    qubo_linearity = qubo.objective.linear.to_array()\n",
    "\n",
    "    # Prepare the quantum and classical registers\n",
    "    qaoa_circuit = QuantumCircuit(size, size)\n",
    "    # Apply the initial layer of Hadamard gates to all qubits\n",
    "    qaoa_circuit.h(range(size))\n",
    "\n",
    "    # Create the parameters to be used in the circuit\n",
    "    #gammas = ParameterVector('gamma', p)\n",
    "    #betas = ParameterVector('beta', p)\n",
    "\n",
    "    # Outer loop to create eahc layer\n",
    "    for layer in range(p):\n",
    "        # Apply Rz rotational gates from the cost layer\n",
    "        for i in range(size):\n",
    "            w_i = (qubo_linearity[layer] + sum(qubo_matrix[i])) / 2\n",
    "            qaoa_circuit.rz(phi=gammas[layer]*w_i, qubit=i)\n",
    "        # Apply the Rzz rotational gates for entangled qubits from cost layer\n",
    "        for i in range(1,size):\n",
    "            for j in range(i):\n",
    "                w_ij = qubo_matrix[i,j]/4\n",
    "                qaoa_circuit.rzz(theta=gammas[layer]*w_ij, qubit1=i, qubit2=j)\n",
    "        # Apply single qubit Rx rotations from mixer layer to all qubits\n",
    "        qaoa_circuit.barrier()\n",
    "        for i in range(size):\n",
    "            qaoa_circuit.rx(theta=2*betas[layer], qubit=i)\n",
    "\n",
    "    # Measure the result in computational basis\n",
    "    qaoa_circuit.barrier()\n",
    "    qaoa_circuit.measure(range(size), range(size))\n",
    "\n",
    "    return qaoa_circuit"
   ]
  },
  {
   "cell_type": "code",
   "execution_count": 79,
   "metadata": {},
   "outputs": [],
   "source": [
    "p = 1\n",
    "qp = quadratic_program_from_graph(graph)\n",
    "gammas = ParameterVector('gamma', p)\n",
    "betas = ParameterVector('beta', p)\n",
    "qc = qaoa_circuit(qp, gammas, betas)\n",
    "#qc.draw(fold=-1)"
   ]
  },
  {
   "cell_type": "code",
   "execution_count": 83,
   "metadata": {},
   "outputs": [],
   "source": [
    "# assign parameters using assign_parameters method\n",
    "param_dict = {gammas : [np.random.random()], betas: [np.random.random()]}\n",
    "new_circuit = qc.assign_parameters(param_dict=param_dict)\n",
    "#new_circuit.draw(fold=-1)\n",
    "#print(new_circuit.parameters)"
   ]
  },
  {
   "cell_type": "code",
   "execution_count": 100,
   "metadata": {},
   "outputs": [
    {
     "name": "stdout",
     "output_type": "stream",
     "text": [
      "{'100110': 1}\n",
      "100110\n",
      "[[  0.  -4.  -6.   0.  -8.  -2.]\n",
      " [  0.   0.  -8.  -2.  -2.  -6.]\n",
      " [  0.   0.   0.   0.  -4.  -6.]\n",
      " [  0.   0.   0.   0. -10.  -2.]\n",
      " [  0.   0.   0.   0.   0.   0.]\n",
      " [  0.   0.   0.   0.   0.   0.]]\n"
     ]
    }
   ],
   "source": [
    "simulator = Aer.get_backend('statevector_simulator')\n",
    "\n",
    "transpiled_qc = transpile(new_circuit, simulator)\n",
    "obj = assemble(transpiled_qc, shots=512)\n",
    "result = simulator.run(obj).result()\n",
    "print(result.get_counts())\n",
    "v = max(result.get_counts())\n",
    "print(v)\n",
    "print(qp.objective.quadratic.to_array())\n",
    "#plot_histogram(result.get_counts())"
   ]
  },
  {
   "cell_type": "code",
   "execution_count": 23,
   "metadata": {},
   "outputs": [
    {
     "name": "stdout",
     "output_type": "stream",
     "text": [
      "[('101100', 23.0, 0.015625000000000007), ('010011', 23.0, 0.015625000000000007), ('110100', 22.0, 0.015625000000000007), ('001011', 22.0, 0.015625000000000007), ('010010', 21.0, 0.015625000000000007), ('011010', 21.0, 0.015625000000000007), ('100101', 21.0, 0.015625000000000007), ('101101', 21.0, 0.015625000000000007), ('011100', 20.0, 0.015625000000000007), ('111100', 20.0, 0.015625000000000007), ('001010', 20.0, 0.015625000000000007), ('110101', 20.0, 0.015625000000000007), ('000011', 20.0, 0.015625000000000007), ('100011', 20.0, 0.015625000000000007), ('001100', 19.0, 0.015625000000000007), ('110010', 19.0, 0.015625000000000007), ('001101', 19.0, 0.015625000000000007), ('110011', 19.0, 0.015625000000000007), ('110000', 17.0, 0.015625000000000007), ('100100', 17.0, 0.015625000000000007), ('001110', 17.0, 0.015625000000000007), ('110001', 17.0, 0.015625000000000007), ('011011', 17.0, 0.015625000000000007), ('001111', 17.0, 0.015625000000000007), ('101000', 16.0, 0.015625000000000007), ('010100', 16.0, 0.015625000000000007), ('101010', 16.0, 0.015625000000000007), ('010110', 16.0, 0.015625000000000007), ('011110', 16.0, 0.015625000000000007), ('100001', 16.0, 0.015625000000000007), ('101001', 16.0, 0.015625000000000007), ('010101', 16.0, 0.015625000000000007), ('101011', 16.0, 0.015625000000000007), ('010111', 16.0, 0.015625000000000007), ('011000', 15.0, 0.015625000000000007), ('111000', 15.0, 0.015625000000000007), ('000111', 15.0, 0.015625000000000007), ('100111', 15.0, 0.015625000000000007), ('100010', 14.0, 0.015625000000000007), ('110110', 14.0, 0.015625000000000007), ('001001', 14.0, 0.015625000000000007), ('011101', 14.0, 0.015625000000000007), ('111010', 13.0, 0.015625000000000007), ('101110', 13.0, 0.015625000000000007), ('010001', 13.0, 0.015625000000000007), ('000101', 13.0, 0.015625000000000007), ('001000', 12.0, 0.015625000000000007), ('000010', 12.0, 0.015625000000000007), ('111101', 12.0, 0.015625000000000007), ('110111', 12.0, 0.015625000000000007), ('010000', 11.0, 0.015625000000000007), ('100110', 11.0, 0.015625000000000007), ('011001', 11.0, 0.015625000000000007), ('101111', 11.0, 0.015625000000000007), ('100000', 10.0, 0.015625000000000007), ('011111', 10.0, 0.015625000000000007), ('000110', 9.0, 0.015625000000000007), ('111001', 9.0, 0.015625000000000007), ('111110', 8.0, 0.015625000000000007), ('000001', 8.0, 0.015625000000000007), ('000100', 7.0, 0.015625000000000007), ('111011', 7.0, 0.015625000000000007), ('000000', 0.0, 0.015625000000000007), ('111111', 0.0, 0.015625000000000007)]\n",
      "optimal function value: 23.0\n",
      "optimal value: [1. 0. 1. 1. 0. 0.]\n",
      "status: SUCCESS\n"
     ]
    }
   ],
   "source": [
    "from qiskit.aqua.algorithms import QAOA\n",
    "from qiskit.optimization.algorithms import MinimumEigenOptimizer\n",
    "\n",
    "backend = Aer.get_backend('statevector_simulator')\n",
    "qaoa = QAOA(quantum_instance=backend, initial_point=[10.0, 0.0])\n",
    "eigen_optimizer = MinimumEigenOptimizer(min_eigen_solver=qaoa)\n",
    "qp = quadratic_program_from_graph(graph)\n",
    "result = eigen_optimizer.solve(qp)\n",
    "print(result.samples)\n",
    "print(result)"
   ]
  },
  {
   "cell_type": "code",
   "execution_count": 22,
   "metadata": {},
   "outputs": [
    {
     "data": {
      "application/vnd.plotly.v1+json": {
       "config": {
        "plotlyServerURL": "https://plot.ly"
       },
       "data": [
        {
         "marker": {
          "color": [
           23,
           23,
           22,
           22,
           21,
           21,
           21,
           21,
           20,
           20,
           20,
           20,
           20,
           20,
           19,
           19,
           19,
           19,
           17,
           17,
           17,
           17,
           17,
           17,
           16,
           16,
           16,
           16,
           16,
           16,
           16,
           16,
           16,
           16,
           15,
           15,
           15,
           15,
           14,
           14,
           14,
           14,
           13,
           13,
           13,
           13,
           12,
           12,
           12,
           12,
           11,
           11,
           11,
           11,
           10,
           10,
           9,
           9,
           8,
           8,
           7,
           7,
           0,
           0
          ],
          "colorbar": {
           "title": {
            "text": "Function Value"
           }
          },
          "colorscale": [
           [
            0,
            "#0d0887"
           ],
           [
            0.1111111111111111,
            "#46039f"
           ],
           [
            0.2222222222222222,
            "#7201a8"
           ],
           [
            0.3333333333333333,
            "#9c179e"
           ],
           [
            0.4444444444444444,
            "#bd3786"
           ],
           [
            0.5555555555555556,
            "#d8576b"
           ],
           [
            0.6666666666666666,
            "#ed7953"
           ],
           [
            0.7777777777777778,
            "#fb9f3a"
           ],
           [
            0.8888888888888888,
            "#fdca26"
           ],
           [
            1,
            "#f0f921"
           ]
          ]
         },
         "type": "bar",
         "x": [
          "101100",
          "010011",
          "110100",
          "001011",
          "010010",
          "011010",
          "100101",
          "101101",
          "011100",
          "111100",
          "001010",
          "110101",
          "000011",
          "100011",
          "001100",
          "110010",
          "001101",
          "110011",
          "110000",
          "100100",
          "001110",
          "110001",
          "011011",
          "001111",
          "101000",
          "010100",
          "101010",
          "010110",
          "011110",
          "100001",
          "101001",
          "010101",
          "101011",
          "010111",
          "011000",
          "111000",
          "000111",
          "100111",
          "100010",
          "110110",
          "001001",
          "011101",
          "111010",
          "101110",
          "010001",
          "000101",
          "001000",
          "000010",
          "111101",
          "110111",
          "010000",
          "100110",
          "011001",
          "101111",
          "100000",
          "011111",
          "000110",
          "111001",
          "111110",
          "000001",
          "000100",
          "111011",
          "000000",
          "111111"
         ],
         "y": [
          0.015625000000000007,
          0.015625000000000007,
          0.015625000000000007,
          0.015625000000000007,
          0.015625000000000007,
          0.015625000000000007,
          0.015625000000000007,
          0.015625000000000007,
          0.015625000000000007,
          0.015625000000000007,
          0.015625000000000007,
          0.015625000000000007,
          0.015625000000000007,
          0.015625000000000007,
          0.015625000000000007,
          0.015625000000000007,
          0.015625000000000007,
          0.015625000000000007,
          0.015625000000000007,
          0.015625000000000007,
          0.015625000000000007,
          0.015625000000000007,
          0.015625000000000007,
          0.015625000000000007,
          0.015625000000000007,
          0.015625000000000007,
          0.015625000000000007,
          0.015625000000000007,
          0.015625000000000007,
          0.015625000000000007,
          0.015625000000000007,
          0.015625000000000007,
          0.015625000000000007,
          0.015625000000000007,
          0.015625000000000007,
          0.015625000000000007,
          0.015625000000000007,
          0.015625000000000007,
          0.015625000000000007,
          0.015625000000000007,
          0.015625000000000007,
          0.015625000000000007,
          0.015625000000000007,
          0.015625000000000007,
          0.015625000000000007,
          0.015625000000000007,
          0.015625000000000007,
          0.015625000000000007,
          0.015625000000000007,
          0.015625000000000007,
          0.015625000000000007,
          0.015625000000000007,
          0.015625000000000007,
          0.015625000000000007,
          0.015625000000000007,
          0.015625000000000007,
          0.015625000000000007,
          0.015625000000000007,
          0.015625000000000007,
          0.015625000000000007,
          0.015625000000000007,
          0.015625000000000007,
          0.015625000000000007,
          0.015625000000000007
         ]
        }
       ],
       "layout": {
        "template": {
         "data": {
          "bar": [
           {
            "error_x": {
             "color": "#2a3f5f"
            },
            "error_y": {
             "color": "#2a3f5f"
            },
            "marker": {
             "line": {
              "color": "#E5ECF6",
              "width": 0.5
             },
             "pattern": {
              "fillmode": "overlay",
              "size": 10,
              "solidity": 0.2
             }
            },
            "type": "bar"
           }
          ],
          "barpolar": [
           {
            "marker": {
             "line": {
              "color": "#E5ECF6",
              "width": 0.5
             },
             "pattern": {
              "fillmode": "overlay",
              "size": 10,
              "solidity": 0.2
             }
            },
            "type": "barpolar"
           }
          ],
          "carpet": [
           {
            "aaxis": {
             "endlinecolor": "#2a3f5f",
             "gridcolor": "white",
             "linecolor": "white",
             "minorgridcolor": "white",
             "startlinecolor": "#2a3f5f"
            },
            "baxis": {
             "endlinecolor": "#2a3f5f",
             "gridcolor": "white",
             "linecolor": "white",
             "minorgridcolor": "white",
             "startlinecolor": "#2a3f5f"
            },
            "type": "carpet"
           }
          ],
          "choropleth": [
           {
            "colorbar": {
             "outlinewidth": 0,
             "ticks": ""
            },
            "type": "choropleth"
           }
          ],
          "contour": [
           {
            "colorbar": {
             "outlinewidth": 0,
             "ticks": ""
            },
            "colorscale": [
             [
              0,
              "#0d0887"
             ],
             [
              0.1111111111111111,
              "#46039f"
             ],
             [
              0.2222222222222222,
              "#7201a8"
             ],
             [
              0.3333333333333333,
              "#9c179e"
             ],
             [
              0.4444444444444444,
              "#bd3786"
             ],
             [
              0.5555555555555556,
              "#d8576b"
             ],
             [
              0.6666666666666666,
              "#ed7953"
             ],
             [
              0.7777777777777778,
              "#fb9f3a"
             ],
             [
              0.8888888888888888,
              "#fdca26"
             ],
             [
              1,
              "#f0f921"
             ]
            ],
            "type": "contour"
           }
          ],
          "contourcarpet": [
           {
            "colorbar": {
             "outlinewidth": 0,
             "ticks": ""
            },
            "type": "contourcarpet"
           }
          ],
          "heatmap": [
           {
            "colorbar": {
             "outlinewidth": 0,
             "ticks": ""
            },
            "colorscale": [
             [
              0,
              "#0d0887"
             ],
             [
              0.1111111111111111,
              "#46039f"
             ],
             [
              0.2222222222222222,
              "#7201a8"
             ],
             [
              0.3333333333333333,
              "#9c179e"
             ],
             [
              0.4444444444444444,
              "#bd3786"
             ],
             [
              0.5555555555555556,
              "#d8576b"
             ],
             [
              0.6666666666666666,
              "#ed7953"
             ],
             [
              0.7777777777777778,
              "#fb9f3a"
             ],
             [
              0.8888888888888888,
              "#fdca26"
             ],
             [
              1,
              "#f0f921"
             ]
            ],
            "type": "heatmap"
           }
          ],
          "heatmapgl": [
           {
            "colorbar": {
             "outlinewidth": 0,
             "ticks": ""
            },
            "colorscale": [
             [
              0,
              "#0d0887"
             ],
             [
              0.1111111111111111,
              "#46039f"
             ],
             [
              0.2222222222222222,
              "#7201a8"
             ],
             [
              0.3333333333333333,
              "#9c179e"
             ],
             [
              0.4444444444444444,
              "#bd3786"
             ],
             [
              0.5555555555555556,
              "#d8576b"
             ],
             [
              0.6666666666666666,
              "#ed7953"
             ],
             [
              0.7777777777777778,
              "#fb9f3a"
             ],
             [
              0.8888888888888888,
              "#fdca26"
             ],
             [
              1,
              "#f0f921"
             ]
            ],
            "type": "heatmapgl"
           }
          ],
          "histogram": [
           {
            "marker": {
             "pattern": {
              "fillmode": "overlay",
              "size": 10,
              "solidity": 0.2
             }
            },
            "type": "histogram"
           }
          ],
          "histogram2d": [
           {
            "colorbar": {
             "outlinewidth": 0,
             "ticks": ""
            },
            "colorscale": [
             [
              0,
              "#0d0887"
             ],
             [
              0.1111111111111111,
              "#46039f"
             ],
             [
              0.2222222222222222,
              "#7201a8"
             ],
             [
              0.3333333333333333,
              "#9c179e"
             ],
             [
              0.4444444444444444,
              "#bd3786"
             ],
             [
              0.5555555555555556,
              "#d8576b"
             ],
             [
              0.6666666666666666,
              "#ed7953"
             ],
             [
              0.7777777777777778,
              "#fb9f3a"
             ],
             [
              0.8888888888888888,
              "#fdca26"
             ],
             [
              1,
              "#f0f921"
             ]
            ],
            "type": "histogram2d"
           }
          ],
          "histogram2dcontour": [
           {
            "colorbar": {
             "outlinewidth": 0,
             "ticks": ""
            },
            "colorscale": [
             [
              0,
              "#0d0887"
             ],
             [
              0.1111111111111111,
              "#46039f"
             ],
             [
              0.2222222222222222,
              "#7201a8"
             ],
             [
              0.3333333333333333,
              "#9c179e"
             ],
             [
              0.4444444444444444,
              "#bd3786"
             ],
             [
              0.5555555555555556,
              "#d8576b"
             ],
             [
              0.6666666666666666,
              "#ed7953"
             ],
             [
              0.7777777777777778,
              "#fb9f3a"
             ],
             [
              0.8888888888888888,
              "#fdca26"
             ],
             [
              1,
              "#f0f921"
             ]
            ],
            "type": "histogram2dcontour"
           }
          ],
          "mesh3d": [
           {
            "colorbar": {
             "outlinewidth": 0,
             "ticks": ""
            },
            "type": "mesh3d"
           }
          ],
          "parcoords": [
           {
            "line": {
             "colorbar": {
              "outlinewidth": 0,
              "ticks": ""
             }
            },
            "type": "parcoords"
           }
          ],
          "pie": [
           {
            "automargin": true,
            "type": "pie"
           }
          ],
          "scatter": [
           {
            "fillpattern": {
             "fillmode": "overlay",
             "size": 10,
             "solidity": 0.2
            },
            "type": "scatter"
           }
          ],
          "scatter3d": [
           {
            "line": {
             "colorbar": {
              "outlinewidth": 0,
              "ticks": ""
             }
            },
            "marker": {
             "colorbar": {
              "outlinewidth": 0,
              "ticks": ""
             }
            },
            "type": "scatter3d"
           }
          ],
          "scattercarpet": [
           {
            "marker": {
             "colorbar": {
              "outlinewidth": 0,
              "ticks": ""
             }
            },
            "type": "scattercarpet"
           }
          ],
          "scattergeo": [
           {
            "marker": {
             "colorbar": {
              "outlinewidth": 0,
              "ticks": ""
             }
            },
            "type": "scattergeo"
           }
          ],
          "scattergl": [
           {
            "marker": {
             "colorbar": {
              "outlinewidth": 0,
              "ticks": ""
             }
            },
            "type": "scattergl"
           }
          ],
          "scattermapbox": [
           {
            "marker": {
             "colorbar": {
              "outlinewidth": 0,
              "ticks": ""
             }
            },
            "type": "scattermapbox"
           }
          ],
          "scatterpolar": [
           {
            "marker": {
             "colorbar": {
              "outlinewidth": 0,
              "ticks": ""
             }
            },
            "type": "scatterpolar"
           }
          ],
          "scatterpolargl": [
           {
            "marker": {
             "colorbar": {
              "outlinewidth": 0,
              "ticks": ""
             }
            },
            "type": "scatterpolargl"
           }
          ],
          "scatterternary": [
           {
            "marker": {
             "colorbar": {
              "outlinewidth": 0,
              "ticks": ""
             }
            },
            "type": "scatterternary"
           }
          ],
          "surface": [
           {
            "colorbar": {
             "outlinewidth": 0,
             "ticks": ""
            },
            "colorscale": [
             [
              0,
              "#0d0887"
             ],
             [
              0.1111111111111111,
              "#46039f"
             ],
             [
              0.2222222222222222,
              "#7201a8"
             ],
             [
              0.3333333333333333,
              "#9c179e"
             ],
             [
              0.4444444444444444,
              "#bd3786"
             ],
             [
              0.5555555555555556,
              "#d8576b"
             ],
             [
              0.6666666666666666,
              "#ed7953"
             ],
             [
              0.7777777777777778,
              "#fb9f3a"
             ],
             [
              0.8888888888888888,
              "#fdca26"
             ],
             [
              1,
              "#f0f921"
             ]
            ],
            "type": "surface"
           }
          ],
          "table": [
           {
            "cells": {
             "fill": {
              "color": "#EBF0F8"
             },
             "line": {
              "color": "white"
             }
            },
            "header": {
             "fill": {
              "color": "#C8D4E3"
             },
             "line": {
              "color": "white"
             }
            },
            "type": "table"
           }
          ]
         },
         "layout": {
          "annotationdefaults": {
           "arrowcolor": "#2a3f5f",
           "arrowhead": 0,
           "arrowwidth": 1
          },
          "autotypenumbers": "strict",
          "coloraxis": {
           "colorbar": {
            "outlinewidth": 0,
            "ticks": ""
           }
          },
          "colorscale": {
           "diverging": [
            [
             0,
             "#8e0152"
            ],
            [
             0.1,
             "#c51b7d"
            ],
            [
             0.2,
             "#de77ae"
            ],
            [
             0.3,
             "#f1b6da"
            ],
            [
             0.4,
             "#fde0ef"
            ],
            [
             0.5,
             "#f7f7f7"
            ],
            [
             0.6,
             "#e6f5d0"
            ],
            [
             0.7,
             "#b8e186"
            ],
            [
             0.8,
             "#7fbc41"
            ],
            [
             0.9,
             "#4d9221"
            ],
            [
             1,
             "#276419"
            ]
           ],
           "sequential": [
            [
             0,
             "#0d0887"
            ],
            [
             0.1111111111111111,
             "#46039f"
            ],
            [
             0.2222222222222222,
             "#7201a8"
            ],
            [
             0.3333333333333333,
             "#9c179e"
            ],
            [
             0.4444444444444444,
             "#bd3786"
            ],
            [
             0.5555555555555556,
             "#d8576b"
            ],
            [
             0.6666666666666666,
             "#ed7953"
            ],
            [
             0.7777777777777778,
             "#fb9f3a"
            ],
            [
             0.8888888888888888,
             "#fdca26"
            ],
            [
             1,
             "#f0f921"
            ]
           ],
           "sequentialminus": [
            [
             0,
             "#0d0887"
            ],
            [
             0.1111111111111111,
             "#46039f"
            ],
            [
             0.2222222222222222,
             "#7201a8"
            ],
            [
             0.3333333333333333,
             "#9c179e"
            ],
            [
             0.4444444444444444,
             "#bd3786"
            ],
            [
             0.5555555555555556,
             "#d8576b"
            ],
            [
             0.6666666666666666,
             "#ed7953"
            ],
            [
             0.7777777777777778,
             "#fb9f3a"
            ],
            [
             0.8888888888888888,
             "#fdca26"
            ],
            [
             1,
             "#f0f921"
            ]
           ]
          },
          "colorway": [
           "#636efa",
           "#EF553B",
           "#00cc96",
           "#ab63fa",
           "#FFA15A",
           "#19d3f3",
           "#FF6692",
           "#B6E880",
           "#FF97FF",
           "#FECB52"
          ],
          "font": {
           "color": "#2a3f5f"
          },
          "geo": {
           "bgcolor": "white",
           "lakecolor": "white",
           "landcolor": "#E5ECF6",
           "showlakes": true,
           "showland": true,
           "subunitcolor": "white"
          },
          "hoverlabel": {
           "align": "left"
          },
          "hovermode": "closest",
          "mapbox": {
           "style": "light"
          },
          "paper_bgcolor": "white",
          "plot_bgcolor": "#E5ECF6",
          "polar": {
           "angularaxis": {
            "gridcolor": "white",
            "linecolor": "white",
            "ticks": ""
           },
           "bgcolor": "#E5ECF6",
           "radialaxis": {
            "gridcolor": "white",
            "linecolor": "white",
            "ticks": ""
           }
          },
          "scene": {
           "xaxis": {
            "backgroundcolor": "#E5ECF6",
            "gridcolor": "white",
            "gridwidth": 2,
            "linecolor": "white",
            "showbackground": true,
            "ticks": "",
            "zerolinecolor": "white"
           },
           "yaxis": {
            "backgroundcolor": "#E5ECF6",
            "gridcolor": "white",
            "gridwidth": 2,
            "linecolor": "white",
            "showbackground": true,
            "ticks": "",
            "zerolinecolor": "white"
           },
           "zaxis": {
            "backgroundcolor": "#E5ECF6",
            "gridcolor": "white",
            "gridwidth": 2,
            "linecolor": "white",
            "showbackground": true,
            "ticks": "",
            "zerolinecolor": "white"
           }
          },
          "shapedefaults": {
           "line": {
            "color": "#2a3f5f"
           }
          },
          "ternary": {
           "aaxis": {
            "gridcolor": "white",
            "linecolor": "white",
            "ticks": ""
           },
           "baxis": {
            "gridcolor": "white",
            "linecolor": "white",
            "ticks": ""
           },
           "bgcolor": "#E5ECF6",
           "caxis": {
            "gridcolor": "white",
            "linecolor": "white",
            "ticks": ""
           }
          },
          "title": {
           "x": 0.05
          },
          "xaxis": {
           "automargin": true,
           "gridcolor": "white",
           "linecolor": "white",
           "ticks": "",
           "title": {
            "standoff": 15
           },
           "zerolinecolor": "white",
           "zerolinewidth": 2
          },
          "yaxis": {
           "automargin": true,
           "gridcolor": "white",
           "linecolor": "white",
           "ticks": "",
           "title": {
            "standoff": 15
           },
           "zerolinecolor": "white",
           "zerolinewidth": 2
          }
         }
        }
       }
      }
     },
     "metadata": {},
     "output_type": "display_data"
    }
   ],
   "source": [
    "def plot_samples(samples):\n",
    "    '''Plots a bar diagramm for the samples of a quantum algorithm\n",
    "        Args: \n",
    "            samples\n",
    "    '''\n",
    "    # Sort samles by probability\n",
    "    samples = sorted(samples, key = lambda x: x[2])\n",
    "    # Get list of probabilities, function values and bitstrings\n",
    "    probabilities = [sample[2] for sample in samples]\n",
    "    values = [sample[1] for sample in samples]\n",
    "    bitstrings = [''.join([str(int(i)) for i in sample[0]]) for sample in samples]\n",
    "    # Plot the bar diagramm\n",
    "    sample_plot = go.Bar(x=bitstrings, y=probabilities, marker=dict(color=values, colorscale='plasma', colorbar=dict(title='Function Value')))\n",
    "    fig = go.Figure(    \n",
    "        data=sample_plot\n",
    "    )\n",
    "    fig.show()\n",
    "\n",
    "plot_samples(result.samples)\n"
   ]
  },
  {
   "cell_type": "code",
   "execution_count": 47,
   "metadata": {},
   "outputs": [
    {
     "data": {
      "text/plain": [
       "Text(0.5, 0.92, 'surface')"
      ]
     },
     "execution_count": 47,
     "metadata": {},
     "output_type": "execute_result"
    },
    {
     "data": {
      "image/png": "[encoded data removed]",
      "text/plain": [
       "<Figure size 432x288 with 1 Axes>"
      ]
     },
     "metadata": {
      "needs_background": "light"
     },
     "output_type": "display_data"
    }
   ],
   "source": [
    "graph_name = 'custom'\n",
    "quadratic_program = quadratic_program_from_graph(graph)\n",
    "\n",
    "trajectory={'beta_0':[], 'gamma_0':[], 'energy':[]}\n",
    "offset = 1/4*quadratic_program.objective.quadratic.to_array(symmetric  = True).sum() + 1/2*quadratic_program.objective.linear.to_array().sum()\n",
    "def callback(eval_count, params, mean, std_dev):\n",
    "    trajectory['beta_0'].append(params[1])\n",
    "    trajectory['gamma_0'].append(params[0])\n",
    "    trajectory['energy'].append(-mean + offset)\n",
    "\n",
    "qaoa = QAOA(quantum_instance = backend, initial_point = [6.2,1.8],callback = callback)\n",
    "eigen_optimizer = MinimumEigenOptimizer(min_eigen_solver = qaoa)\n",
    "result = eigen_optimizer.solve(quadratic_program)\n",
    "\n",
    "x = np.array(trajectory['beta_0'])\n",
    "y = np.array(trajectory['gamma_0'])\n",
    "z = np.array(trajectory['energy'])\n",
    "ax = plt.axes(projection='3d')\n",
    "ax.plot3D(x,y,z)\n",
    "ax.set_title('surface')"
   ]
  }
 ],
 "metadata": {
  "interpreter": {
   "hash": "08c9c49d27e68bdd458820e26d3758366881487861c502456df1e241cab4de5a"
  },
  "kernelspec": {
   "display_name": "Python 3.8.8 ('base')",
   "language": "python",
   "name": "python3"
  },
  "language_info": {
   "codemirror_mode": {
    "name": "ipython",
    "version": 3
   },
   "file_extension": ".py",
   "mimetype": "text/x-python",
   "name": "python",
   "nbconvert_exporter": "python",
   "pygments_lexer": "ipython3",
   "version": "3.8.8"
  },
  "orig_nbformat": 4
 },
 "nbformat": 4,
 "nbformat_minor": 2
}
